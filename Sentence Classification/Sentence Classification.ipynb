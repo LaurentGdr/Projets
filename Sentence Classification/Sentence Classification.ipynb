{
 "cells": [
  {
   "cell_type": "markdown",
   "metadata": {},
   "source": [
    "Bio-Informatique : Medical sentences classification of the PubMed 200k RCT dataset\n",
    "\n",
    "Laurent Guiddir "
   ]
  },
  {
   "cell_type": "code",
   "execution_count": 2,
   "metadata": {},
   "outputs": [
    {
     "name": "stdout",
     "output_type": "stream",
     "text": [
      "Collecting https://s3-us-west-2.amazonaws.com/ai2-s2-scispacy/releases/v0.5.3/en_core_sci_sm-0.5.3.tar.gz\n",
      "  Using cached https://s3-us-west-2.amazonaws.com/ai2-s2-scispacy/releases/v0.5.3/en_core_sci_sm-0.5.3.tar.gz (14.8 MB)\n",
      "  Installing build dependencies: started\n",
      "  Installing build dependencies: finished with status 'done'\n",
      "  Getting requirements to build wheel: started\n",
      "  Getting requirements to build wheel: finished with status 'done'\n",
      "  Installing backend dependencies: started\n",
      "  Installing backend dependencies: finished with status 'done'\n",
      "  Preparing metadata (pyproject.toml): started\n",
      "  Preparing metadata (pyproject.toml): finished with status 'done'\n",
      "Requirement already satisfied: spacy<3.7.0,>=3.6.1 in c:\\users\\test\\appdata\\local\\programs\\python\\python310\\lib\\site-packages (from en_core_sci_sm==0.5.3) (3.6.1)\n",
      "Requirement already satisfied: spacy-legacy<3.1.0,>=3.0.11 in c:\\users\\test\\appdata\\local\\programs\\python\\python310\\lib\\site-packages (from spacy<3.7.0,>=3.6.1->en_core_sci_sm==0.5.3) (3.0.12)\n",
      "Requirement already satisfied: spacy-loggers<2.0.0,>=1.0.0 in c:\\users\\test\\appdata\\local\\programs\\python\\python310\\lib\\site-packages (from spacy<3.7.0,>=3.6.1->en_core_sci_sm==0.5.3) (1.0.5)\n",
      "Requirement already satisfied: murmurhash<1.1.0,>=0.28.0 in c:\\users\\test\\appdata\\local\\programs\\python\\python310\\lib\\site-packages (from spacy<3.7.0,>=3.6.1->en_core_sci_sm==0.5.3) (1.0.10)\n",
      "Requirement already satisfied: cymem<2.1.0,>=2.0.2 in c:\\users\\test\\appdata\\local\\programs\\python\\python310\\lib\\site-packages (from spacy<3.7.0,>=3.6.1->en_core_sci_sm==0.5.3) (2.0.8)\n",
      "Requirement already satisfied: preshed<3.1.0,>=3.0.2 in c:\\users\\test\\appdata\\local\\programs\\python\\python310\\lib\\site-packages (from spacy<3.7.0,>=3.6.1->en_core_sci_sm==0.5.3) (3.0.9)\n",
      "Requirement already satisfied: thinc<8.2.0,>=8.1.8 in c:\\users\\test\\appdata\\local\\programs\\python\\python310\\lib\\site-packages (from spacy<3.7.0,>=3.6.1->en_core_sci_sm==0.5.3) (8.1.12)\n",
      "Requirement already satisfied: wasabi<1.2.0,>=0.9.1 in c:\\users\\test\\appdata\\local\\programs\\python\\python310\\lib\\site-packages (from spacy<3.7.0,>=3.6.1->en_core_sci_sm==0.5.3) (1.1.2)\n",
      "Requirement already satisfied: srsly<3.0.0,>=2.4.3 in c:\\users\\test\\appdata\\local\\programs\\python\\python310\\lib\\site-packages (from spacy<3.7.0,>=3.6.1->en_core_sci_sm==0.5.3) (2.4.8)\n",
      "Requirement already satisfied: catalogue<2.1.0,>=2.0.6 in c:\\users\\test\\appdata\\local\\programs\\python\\python310\\lib\\site-packages (from spacy<3.7.0,>=3.6.1->en_core_sci_sm==0.5.3) (2.0.10)\n",
      "Requirement already satisfied: typer<0.10.0,>=0.3.0 in c:\\users\\test\\appdata\\local\\programs\\python\\python310\\lib\\site-packages (from spacy<3.7.0,>=3.6.1->en_core_sci_sm==0.5.3) (0.9.0)\n",
      "Requirement already satisfied: pathy>=0.10.0 in c:\\users\\test\\appdata\\local\\programs\\python\\python310\\lib\\site-packages (from spacy<3.7.0,>=3.6.1->en_core_sci_sm==0.5.3) (0.11.0)\n",
      "Requirement already satisfied: smart-open<7.0.0,>=5.2.1 in c:\\users\\test\\appdata\\local\\programs\\python\\python310\\lib\\site-packages (from spacy<3.7.0,>=3.6.1->en_core_sci_sm==0.5.3) (6.4.0)\n",
      "Requirement already satisfied: tqdm<5.0.0,>=4.38.0 in c:\\users\\test\\appdata\\local\\programs\\python\\python310\\lib\\site-packages (from spacy<3.7.0,>=3.6.1->en_core_sci_sm==0.5.3) (4.66.1)\n",
      "Requirement already satisfied: numpy>=1.15.0 in c:\\users\\test\\appdata\\local\\programs\\python\\python310\\lib\\site-packages (from spacy<3.7.0,>=3.6.1->en_core_sci_sm==0.5.3) (1.24.2)\n",
      "Requirement already satisfied: requests<3.0.0,>=2.13.0 in c:\\users\\test\\appdata\\local\\programs\\python\\python310\\lib\\site-packages (from spacy<3.7.0,>=3.6.1->en_core_sci_sm==0.5.3) (2.31.0)\n",
      "Requirement already satisfied: pydantic!=1.8,!=1.8.1,<3.0.0,>=1.7.4 in c:\\users\\test\\appdata\\local\\programs\\python\\python310\\lib\\site-packages (from spacy<3.7.0,>=3.6.1->en_core_sci_sm==0.5.3) (2.6.0)\n",
      "Requirement already satisfied: jinja2 in c:\\users\\test\\appdata\\local\\programs\\python\\python310\\lib\\site-packages (from spacy<3.7.0,>=3.6.1->en_core_sci_sm==0.5.3) (3.1.2)\n",
      "Requirement already satisfied: setuptools in c:\\users\\test\\appdata\\local\\programs\\python\\python310\\lib\\site-packages (from spacy<3.7.0,>=3.6.1->en_core_sci_sm==0.5.3) (63.2.0)\n",
      "Requirement already satisfied: packaging>=20.0 in c:\\users\\test\\appdata\\roaming\\python\\python310\\site-packages (from spacy<3.7.0,>=3.6.1->en_core_sci_sm==0.5.3) (23.0)\n",
      "Requirement already satisfied: langcodes<4.0.0,>=3.2.0 in c:\\users\\test\\appdata\\local\\programs\\python\\python310\\lib\\site-packages (from spacy<3.7.0,>=3.6.1->en_core_sci_sm==0.5.3) (3.3.0)\n",
      "Requirement already satisfied: pathlib-abc==0.1.1 in c:\\users\\test\\appdata\\local\\programs\\python\\python310\\lib\\site-packages (from pathy>=0.10.0->spacy<3.7.0,>=3.6.1->en_core_sci_sm==0.5.3) (0.1.1)\n",
      "Requirement already satisfied: annotated-types>=0.4.0 in c:\\users\\test\\appdata\\local\\programs\\python\\python310\\lib\\site-packages (from pydantic!=1.8,!=1.8.1,<3.0.0,>=1.7.4->spacy<3.7.0,>=3.6.1->en_core_sci_sm==0.5.3) (0.6.0)\n",
      "Requirement already satisfied: pydantic-core==2.16.1 in c:\\users\\test\\appdata\\local\\programs\\python\\python310\\lib\\site-packages (from pydantic!=1.8,!=1.8.1,<3.0.0,>=1.7.4->spacy<3.7.0,>=3.6.1->en_core_sci_sm==0.5.3) (2.16.1)\n",
      "Requirement already satisfied: typing-extensions>=4.6.1 in c:\\users\\test\\appdata\\local\\programs\\python\\python310\\lib\\site-packages (from pydantic!=1.8,!=1.8.1,<3.0.0,>=1.7.4->spacy<3.7.0,>=3.6.1->en_core_sci_sm==0.5.3) (4.9.0)\n",
      "Requirement already satisfied: charset-normalizer<4,>=2 in c:\\users\\test\\appdata\\local\\programs\\python\\python310\\lib\\site-packages (from requests<3.0.0,>=2.13.0->spacy<3.7.0,>=3.6.1->en_core_sci_sm==0.5.3) (3.3.2)\n",
      "Requirement already satisfied: idna<4,>=2.5 in c:\\users\\test\\appdata\\local\\programs\\python\\python310\\lib\\site-packages (from requests<3.0.0,>=2.13.0->spacy<3.7.0,>=3.6.1->en_core_sci_sm==0.5.3) (3.4)\n",
      "Requirement already satisfied: urllib3<3,>=1.21.1 in c:\\users\\test\\appdata\\local\\programs\\python\\python310\\lib\\site-packages (from requests<3.0.0,>=2.13.0->spacy<3.7.0,>=3.6.1->en_core_sci_sm==0.5.3) (1.26.14)\n",
      "Requirement already satisfied: certifi>=2017.4.17 in c:\\users\\test\\appdata\\local\\programs\\python\\python310\\lib\\site-packages (from requests<3.0.0,>=2.13.0->spacy<3.7.0,>=3.6.1->en_core_sci_sm==0.5.3) (2022.12.7)\n",
      "Requirement already satisfied: blis<0.8.0,>=0.7.8 in c:\\users\\test\\appdata\\local\\programs\\python\\python310\\lib\\site-packages (from thinc<8.2.0,>=8.1.8->spacy<3.7.0,>=3.6.1->en_core_sci_sm==0.5.3) (0.7.11)\n",
      "Requirement already satisfied: confection<1.0.0,>=0.0.1 in c:\\users\\test\\appdata\\local\\programs\\python\\python310\\lib\\site-packages (from thinc<8.2.0,>=8.1.8->spacy<3.7.0,>=3.6.1->en_core_sci_sm==0.5.3) (0.1.4)\n",
      "Requirement already satisfied: colorama in c:\\users\\test\\appdata\\roaming\\python\\python310\\site-packages (from tqdm<5.0.0,>=4.38.0->spacy<3.7.0,>=3.6.1->en_core_sci_sm==0.5.3) (0.4.6)\n",
      "Requirement already satisfied: click<9.0.0,>=7.1.1 in c:\\users\\test\\appdata\\local\\programs\\python\\python310\\lib\\site-packages (from typer<0.10.0,>=0.3.0->spacy<3.7.0,>=3.6.1->en_core_sci_sm==0.5.3) (8.1.7)\n",
      "Requirement already satisfied: MarkupSafe>=2.0 in c:\\users\\test\\appdata\\local\\programs\\python\\python310\\lib\\site-packages (from jinja2->spacy<3.7.0,>=3.6.1->en_core_sci_sm==0.5.3) (2.1.2)\n",
      "Note: you may need to restart the kernel to use updated packages.\n"
     ]
    }
   ],
   "source": [
    "pip install https://s3-us-west-2.amazonaws.com/ai2-s2-scispacy/releases/v0.5.3/en_core_sci_sm-0.5.3.tar.gz"
   ]
  },
  {
   "cell_type": "code",
   "execution_count": 3,
   "metadata": {},
   "outputs": [
    {
     "name": "stdout",
     "output_type": "stream",
     "text": [
      "Requirement already satisfied: imbalanced-learn in c:\\users\\test\\appdata\\local\\programs\\python\\python310\\lib\\site-packages (0.10.1)Note: you may need to restart the kernel to use updated packages.\n",
      "\n",
      "Requirement already satisfied: numpy>=1.17.3 in c:\\users\\test\\appdata\\local\\programs\\python\\python310\\lib\\site-packages (from imbalanced-learn) (1.24.2)\n",
      "Requirement already satisfied: scipy>=1.3.2 in c:\\users\\test\\appdata\\local\\programs\\python\\python310\\lib\\site-packages (from imbalanced-learn) (1.10.1)\n",
      "Requirement already satisfied: scikit-learn>=1.0.2 in c:\\users\\test\\appdata\\local\\programs\\python\\python310\\lib\\site-packages (from imbalanced-learn) (1.2.2)\n",
      "Requirement already satisfied: joblib>=1.1.1 in c:\\users\\test\\appdata\\local\\programs\\python\\python310\\lib\\site-packages (from imbalanced-learn) (1.2.0)\n",
      "Requirement already satisfied: threadpoolctl>=2.0.0 in c:\\users\\test\\appdata\\local\\programs\\python\\python310\\lib\\site-packages (from imbalanced-learn) (3.1.0)\n"
     ]
    }
   ],
   "source": [
    "pip install imbalanced-learn"
   ]
  },
  {
   "cell_type": "markdown",
   "metadata": {},
   "source": [
    "attention : au chemin pour les fichier, car je ne vous nous avez dit de pas vous les fournir, ils devront tous etre dans un dossier nommé PubMed_200k_RCT et tous unzippé. Sinon vous pouvez adapter le chemin pour vous."
   ]
  },
  {
   "cell_type": "code",
   "execution_count": 4,
   "metadata": {},
   "outputs": [],
   "source": [
    "# (Vous pouvez adaptez le chemin en fonction de la ou ils sont pour vous )\n",
    "train_file = 'PubMed_200k_RCT/train.txt'\n",
    "dev_file = 'PubMed_200k_RCT/dev.txt'\n",
    "test_file = 'PubMed_200k_RCT/test.txt'"
   ]
  },
  {
   "cell_type": "code",
   "execution_count": 5,
   "metadata": {},
   "outputs": [],
   "source": [
    "import pandas as pd\n",
    "import numpy as np"
   ]
  },
  {
   "cell_type": "markdown",
   "metadata": {},
   "source": [
    "First step :\n",
    "\n",
    "Preprocessing 1 : For each file (train.txt, dev.txt and test.txt), we going to extract the sentences and their respective labels.\n",
    "\n",
    "Computing so much data is extremly long for both the lemmatization and the training.\n",
    "So i created a viriable SUBSET_SIZE where TRAIN_SUBSET_SIZE is at least five time bigger, so that we work with a computable amout of data for my machine."
   ]
  },
  {
   "cell_type": "code",
   "execution_count": 6,
   "metadata": {},
   "outputs": [],
   "source": [
    "SUBSET_SIZE = 20000\n",
    "TRAIN_SUBSET_SIZE = 5*SUBSET_SIZE\n",
    "\n",
    "def extract_sentences_and_labels(file, subset_size):\n",
    "    sentences = []\n",
    "    labels = []\n",
    "\n",
    "    with open(file, 'r') as file:\n",
    "        for line in file:\n",
    "            if not line.startswith('###'):  # on ignore les identifiants des articles\n",
    "                parts = line.strip().split('\\t')\n",
    "                if len(parts) == 2:\n",
    "                    label, sentence = parts\n",
    "                    labels.append(label)\n",
    "                    sentences.append(sentence)\n",
    "\n",
    "                    if len(sentences) >= subset_size:\n",
    "                        break\n",
    "    return sentences, labels\n",
    "\n",
    "\n",
    "# For the train.txt file\n",
    "train_sentences, train_labels = extract_sentences_and_labels(train_file, TRAIN_SUBSET_SIZE)\n",
    "\n",
    "# For the dev.txt file\n",
    "dev_sentences, dev_labels = extract_sentences_and_labels(dev_file, SUBSET_SIZE)\n",
    "\n",
    "# For the test.txt file\n",
    "test_sentences, test_labels = extract_sentences_and_labels(test_file, SUBSET_SIZE)"
   ]
  },
  {
   "cell_type": "markdown",
   "metadata": {},
   "source": [
    "Preprocessing 2 : we are going to lemmatize all the sentences of each file."
   ]
  },
  {
   "cell_type": "code",
   "execution_count": 7,
   "metadata": {},
   "outputs": [
    {
     "name": "stderr",
     "output_type": "stream",
     "text": [
      "c:\\Users\\test\\AppData\\Local\\Programs\\Python\\Python310\\lib\\site-packages\\spacy\\language.py:2141: FutureWarning: Possible set union at position 6328\n",
      "  deserializers[\"tokenizer\"] = lambda p: self.tokenizer.from_disk(  # type: ignore[union-attr]\n"
     ]
    }
   ],
   "source": [
    "import spacy\n",
    "\n",
    "nlp = spacy.load('en_core_sci_sm')\n",
    "\n",
    "def sentences_lemmatization(sentences):\n",
    "    lemmatized_sentences = []\n",
    "\n",
    "    for doc in nlp.pipe(sentences, batch_size= 200):\n",
    "        lemmatized_sentence = \" \".join([token.lemma_ for token in doc])\n",
    "        lemmatized_sentences.append(lemmatized_sentence)\n",
    "    return lemmatized_sentences"
   ]
  },
  {
   "cell_type": "code",
   "execution_count": 8,
   "metadata": {},
   "outputs": [],
   "source": [
    "train_lemmatized_sentences = sentences_lemmatization(train_sentences)"
   ]
  },
  {
   "cell_type": "code",
   "execution_count": 9,
   "metadata": {},
   "outputs": [],
   "source": [
    "dev_lemmatized_sentences = sentences_lemmatization(dev_sentences)\n",
    "test_lemmatized_sentences = sentences_lemmatization(test_sentences)"
   ]
  },
  {
   "cell_type": "code",
   "execution_count": 10,
   "metadata": {},
   "outputs": [
    {
     "data": {
      "text/plain": [
       "RESULTS        34784\n",
       "METHODS        32699\n",
       "CONCLUSIONS    15218\n",
       "BACKGROUND      8859\n",
       "OBJECTIVE       8440\n",
       "Name: label, dtype: int64"
      ]
     },
     "execution_count": 10,
     "metadata": {},
     "output_type": "execute_result"
    }
   ],
   "source": [
    "train_sentences_df = pd.DataFrame({'sentence': train_sentences,'lemmatized sentence': train_lemmatized_sentences, 'label': train_labels})\n",
    "train_sentences_df['label'].value_counts()"
   ]
  },
  {
   "cell_type": "markdown",
   "metadata": {},
   "source": [
    "As we can see just above the differents class (labels) are very unbalanced. We will have to consider this when doing the training of the model to avoid the model to be biased. For exemple by weighting the classes for the training."
   ]
  },
  {
   "cell_type": "markdown",
   "metadata": {},
   "source": [
    "We are now going to use TF-IDF with unigram bag of words to extract the features."
   ]
  },
  {
   "cell_type": "code",
   "execution_count": 43,
   "metadata": {},
   "outputs": [],
   "source": [
    "from sklearn.feature_extraction.text import TfidfVectorizer\n",
    "from sklearn.preprocessing import LabelEncoder\n",
    "\n",
    "vectorizer = TfidfVectorizer(ngram_range=(1,1) )\n",
    "\n",
    "# X_train is a sparse matrix where each row is a sentence and each column is a word\n",
    "X_train = vectorizer.fit_transform(train_lemmatized_sentences)\n",
    "X_dev = vectorizer.transform(dev_lemmatized_sentences)\n",
    "X_test = vectorizer.transform(test_lemmatized_sentences)"
   ]
  },
  {
   "cell_type": "code",
   "execution_count": 44,
   "metadata": {},
   "outputs": [],
   "source": [
    "encoder = LabelEncoder()\n",
    "\n",
    "y_train = encoder.fit_transform(train_labels)\n",
    "y_dev = encoder.transform(dev_labels)\n",
    "y_test = encoder.transform(test_labels)"
   ]
  },
  {
   "cell_type": "code",
   "execution_count": 50,
   "metadata": {},
   "outputs": [
    {
     "name": "stdout",
     "output_type": "stream",
     "text": [
      "logistic regression with balanced classes on unigrams :\n",
      "accuracy :  0.769\n",
      "balanced accuracy :  0.714326986906478\n",
      "              precision    recall  f1-score   support\n",
      "\n",
      "  BACKGROUND       0.48      0.55      0.51      1768\n",
      " CONCLUSIONS       0.67      0.72      0.69      3035\n",
      "     METHODS       0.86      0.86      0.86      6609\n",
      "   OBJECTIVE       0.55      0.65      0.60      1660\n",
      "     RESULTS       0.89      0.78      0.83      6928\n",
      "\n",
      "    accuracy                           0.77     20000\n",
      "   macro avg       0.69      0.71      0.70     20000\n",
      "weighted avg       0.78      0.77      0.77     20000\n",
      "\n"
     ]
    }
   ],
   "source": [
    "from sklearn.linear_model import LogisticRegression\n",
    "from sklearn.metrics import accuracy_score, classification_report, balanced_accuracy_score, confusion_matrix\n",
    "\n",
    "# train the model with wheigted classe\n",
    "model_balanced = LogisticRegression(max_iter=10000, class_weight='balanced')\n",
    "model_balanced.fit(X_train, y_train)\n",
    "\n",
    "# predict on the dev set\n",
    "y_pred_balanced = model_balanced.predict(X_dev)\n",
    "\n",
    "\n",
    "label_names = encoder.classes_\n",
    "\n",
    "\n",
    "def display_score(y, y_pred, label_names, title):\n",
    "    print(title, \":\")\n",
    "    print(f\"accuracy :  {accuracy_score(y, y_pred)}\")\n",
    "    print(f\"balanced accuracy :  {balanced_accuracy_score(y, y_pred)}\")\n",
    "    print(classification_report(y, y_pred, target_names=label_names))\n",
    "\n",
    "\n",
    "\n",
    "# we now evaluate the model\n",
    "display_score(y_dev, y_pred_balanced, label_names, \"logistic regression with balanced classes on unigrams\")"
   ]
  },
  {
   "cell_type": "markdown",
   "metadata": {},
   "source": [
    "Just for the sake of comparaison, we are going create an other model but without wheiting the classes to see if there's an important difference of performance :"
   ]
  },
  {
   "cell_type": "code",
   "execution_count": 51,
   "metadata": {},
   "outputs": [
    {
     "name": "stdout",
     "output_type": "stream",
     "text": [
      "logistic regression on unigrams :\n",
      "accuracy :  0.786\n",
      "balanced accuracy :  0.700663976675888\n",
      "              precision    recall  f1-score   support\n",
      "\n",
      "  BACKGROUND       0.57      0.46      0.51      1768\n",
      " CONCLUSIONS       0.70      0.71      0.71      3035\n",
      "     METHODS       0.83      0.89      0.86      6609\n",
      "   OBJECTIVE       0.66      0.60      0.63      1660\n",
      "     RESULTS       0.85      0.85      0.85      6928\n",
      "\n",
      "    accuracy                           0.79     20000\n",
      "   macro avg       0.72      0.70      0.71     20000\n",
      "weighted avg       0.78      0.79      0.78     20000\n",
      "\n"
     ]
    }
   ],
   "source": [
    "model = LogisticRegression(max_iter=10000)\n",
    "model.fit(X_train, y_train)\n",
    "y_pred = model.predict(X_dev)\n",
    "\n",
    "\n",
    "display_score(y_dev, y_pred, label_names, \"logistic regression on unigrams\")"
   ]
  },
  {
   "cell_type": "markdown",
   "metadata": {},
   "source": [
    "We can see, that even though the normal model has a better accuracy than the weighted modele, the weighted one has a better balanced accuracy due significently better recall of the minority classes (due the increased sensitivity for minority classes induces by the wheighting). \n",
    "\n",
    "That being said the normal model has a better f1 on average score and for every single classe, even for the less represented classes so we are going to seelect keep this one."
   ]
  },
  {
   "cell_type": "markdown",
   "metadata": {},
   "source": [
    "Maybe we can improve our result even more buy using smote to resample our training data"
   ]
  },
  {
   "cell_type": "code",
   "execution_count": 52,
   "metadata": {},
   "outputs": [],
   "source": [
    "from imblearn.over_sampling import SMOTE\n",
    "\n",
    "smote = SMOTE(random_state=0)\n",
    "X_train_resampled, y_train_resampled = smote.fit_resample(X_train, y_train)"
   ]
  },
  {
   "cell_type": "code",
   "execution_count": 53,
   "metadata": {},
   "outputs": [
    {
     "name": "stdout",
     "output_type": "stream",
     "text": [
      "dev set evaluation using using smote to resample the data and TF-IDF unigram :\n",
      "accuracy :  0.76215\n",
      "balanced accuracy :  0.697759292686321\n",
      "              precision    recall  f1-score   support\n",
      "\n",
      "  BACKGROUND       0.46      0.59      0.52      1768\n",
      " CONCLUSIONS       0.67      0.71      0.69      3035\n",
      "     METHODS       0.86      0.86      0.86      6609\n",
      "   OBJECTIVE       0.53      0.54      0.53      1660\n",
      "     RESULTS       0.88      0.79      0.83      6928\n",
      "\n",
      "    accuracy                           0.76     20000\n",
      "   macro avg       0.68      0.70      0.69     20000\n",
      "weighted avg       0.77      0.76      0.77     20000\n",
      "\n"
     ]
    }
   ],
   "source": [
    "model_resampled = LogisticRegression(max_iter=10000)\n",
    "model_resampled.fit(X_train_resampled, y_train_resampled)\n",
    "\n",
    "X_dev_resampled = vectorizer.transform(dev_lemmatized_sentences)\n",
    "y_pred_resampled = model_resampled.predict(X_dev_resampled)\n",
    "\n",
    "\n",
    "display_score(y_dev, y_pred_resampled, label_names, \"dev set evaluation using using smote to resample the data and TF-IDF unigram\")"
   ]
  },
  {
   "cell_type": "markdown",
   "metadata": {},
   "source": [
    "Well, we can see that resampling the data with smote gave us worse result for all metric this artificial synthetic oversmpling was probably not rich enough to offset the lack of information that new and real sentences could have provided.\n",
    "\n",
    "So we are going to select the normal for the first method."
   ]
  },
  {
   "cell_type": "markdown",
   "metadata": {},
   "source": [
    "---------------------------------------------------------------------------------------------------------------------------------------------\n",
    "We are now going to use BioSentVect to make a second model using this pre-trained biomedical sentence embeddings. \n",
    "\n",
    "the model is available at this link (21Go) : https://github.com/ncbi-nlp/BioSentVec?tab=readme-ov-file#biosentvec\n",
    "\n",
    "\n",
    "WARNING : \n",
    " the command pip install sent2vec will get the wrong package. \n",
    "\n",
    "\n",
    "\n",
    "EDIT : I struggled way too much to get sent2vec to work on my windows machine but i ran into a lot of issues.\n",
    "So not being able to set up sent2vec, i will not be able to use BioSentVec."
   ]
  },
  {
   "cell_type": "markdown",
   "metadata": {},
   "source": [
    "------------------------------------------------------------------------------------------------------------------------------\n",
    "\n",
    "THEREFORE, i am going to use the PubMedBERT pre-trained model instead."
   ]
  },
  {
   "cell_type": "code",
   "execution_count": 18,
   "metadata": {},
   "outputs": [
    {
     "name": "stdout",
     "output_type": "stream",
     "text": [
      "Requirement already satisfied: sentence-transformers in c:\\users\\test\\appdata\\local\\programs\\python\\python310\\lib\\site-packages (2.3.1)Note: you may need to restart the kernel to use updated packages.\n",
      "\n",
      "Requirement already satisfied: transformers<5.0.0,>=4.32.0 in c:\\users\\test\\appdata\\local\\programs\\python\\python310\\lib\\site-packages (from sentence-transformers) (4.37.2)\n",
      "Requirement already satisfied: tqdm in c:\\users\\test\\appdata\\local\\programs\\python\\python310\\lib\\site-packages (from sentence-transformers) (4.66.1)\n",
      "Requirement already satisfied: torch>=1.11.0 in c:\\users\\test\\appdata\\local\\programs\\python\\python310\\lib\\site-packages (from sentence-transformers) (2.2.0)\n",
      "Requirement already satisfied: numpy in c:\\users\\test\\appdata\\local\\programs\\python\\python310\\lib\\site-packages (from sentence-transformers) (1.24.2)\n",
      "Requirement already satisfied: scikit-learn in c:\\users\\test\\appdata\\local\\programs\\python\\python310\\lib\\site-packages (from sentence-transformers) (1.2.2)\n",
      "Requirement already satisfied: scipy in c:\\users\\test\\appdata\\local\\programs\\python\\python310\\lib\\site-packages (from sentence-transformers) (1.10.1)\n",
      "Requirement already satisfied: nltk in c:\\users\\test\\appdata\\local\\programs\\python\\python310\\lib\\site-packages (from sentence-transformers) (3.8.1)\n",
      "Requirement already satisfied: sentencepiece in c:\\users\\test\\appdata\\local\\programs\\python\\python310\\lib\\site-packages (from sentence-transformers) (0.2.0)\n",
      "Requirement already satisfied: huggingface-hub>=0.15.1 in c:\\users\\test\\appdata\\local\\programs\\python\\python310\\lib\\site-packages (from sentence-transformers) (0.20.3)\n",
      "Requirement already satisfied: Pillow in c:\\users\\test\\appdata\\local\\programs\\python\\python310\\lib\\site-packages (from sentence-transformers) (9.4.0)\n",
      "Requirement already satisfied: filelock in c:\\users\\test\\appdata\\local\\programs\\python\\python310\\lib\\site-packages (from huggingface-hub>=0.15.1->sentence-transformers) (3.13.1)\n",
      "Requirement already satisfied: fsspec>=2023.5.0 in c:\\users\\test\\appdata\\local\\programs\\python\\python310\\lib\\site-packages (from huggingface-hub>=0.15.1->sentence-transformers) (2024.2.0)\n",
      "Requirement already satisfied: requests in c:\\users\\test\\appdata\\local\\programs\\python\\python310\\lib\\site-packages (from huggingface-hub>=0.15.1->sentence-transformers) (2.31.0)\n",
      "Requirement already satisfied: pyyaml>=5.1 in c:\\users\\test\\appdata\\local\\programs\\python\\python310\\lib\\site-packages (from huggingface-hub>=0.15.1->sentence-transformers) (6.0.1)\n",
      "Requirement already satisfied: typing-extensions>=3.7.4.3 in c:\\users\\test\\appdata\\local\\programs\\python\\python310\\lib\\site-packages (from huggingface-hub>=0.15.1->sentence-transformers) (4.9.0)\n",
      "Requirement already satisfied: packaging>=20.9 in c:\\users\\test\\appdata\\roaming\\python\\python310\\site-packages (from huggingface-hub>=0.15.1->sentence-transformers) (23.0)\n",
      "Requirement already satisfied: sympy in c:\\users\\test\\appdata\\local\\programs\\python\\python310\\lib\\site-packages (from torch>=1.11.0->sentence-transformers) (1.12)\n",
      "Requirement already satisfied: networkx in c:\\users\\test\\appdata\\local\\programs\\python\\python310\\lib\\site-packages (from torch>=1.11.0->sentence-transformers) (3.2.1)\n",
      "Requirement already satisfied: jinja2 in c:\\users\\test\\appdata\\local\\programs\\python\\python310\\lib\\site-packages (from torch>=1.11.0->sentence-transformers) (3.1.2)\n",
      "Requirement already satisfied: colorama in c:\\users\\test\\appdata\\roaming\\python\\python310\\site-packages (from tqdm->sentence-transformers) (0.4.6)\n",
      "Requirement already satisfied: regex!=2019.12.17 in c:\\users\\test\\appdata\\local\\programs\\python\\python310\\lib\\site-packages (from transformers<5.0.0,>=4.32.0->sentence-transformers) (2023.12.25)\n",
      "Requirement already satisfied: tokenizers<0.19,>=0.14 in c:\\users\\test\\appdata\\local\\programs\\python\\python310\\lib\\site-packages (from transformers<5.0.0,>=4.32.0->sentence-transformers) (0.15.2)\n",
      "Requirement already satisfied: safetensors>=0.4.1 in c:\\users\\test\\appdata\\local\\programs\\python\\python310\\lib\\site-packages (from transformers<5.0.0,>=4.32.0->sentence-transformers) (0.4.2)\n",
      "Requirement already satisfied: click in c:\\users\\test\\appdata\\local\\programs\\python\\python310\\lib\\site-packages (from nltk->sentence-transformers) (8.1.7)\n",
      "Requirement already satisfied: joblib in c:\\users\\test\\appdata\\local\\programs\\python\\python310\\lib\\site-packages (from nltk->sentence-transformers) (1.2.0)\n",
      "Requirement already satisfied: threadpoolctl>=2.0.0 in c:\\users\\test\\appdata\\local\\programs\\python\\python310\\lib\\site-packages (from scikit-learn->sentence-transformers) (3.1.0)\n",
      "Requirement already satisfied: MarkupSafe>=2.0 in c:\\users\\test\\appdata\\local\\programs\\python\\python310\\lib\\site-packages (from jinja2->torch>=1.11.0->sentence-transformers) (2.1.2)\n",
      "Requirement already satisfied: charset-normalizer<4,>=2 in c:\\users\\test\\appdata\\local\\programs\\python\\python310\\lib\\site-packages (from requests->huggingface-hub>=0.15.1->sentence-transformers) (3.3.2)\n",
      "Requirement already satisfied: idna<4,>=2.5 in c:\\users\\test\\appdata\\local\\programs\\python\\python310\\lib\\site-packages (from requests->huggingface-hub>=0.15.1->sentence-transformers) (3.4)\n",
      "Requirement already satisfied: urllib3<3,>=1.21.1 in c:\\users\\test\\appdata\\local\\programs\\python\\python310\\lib\\site-packages (from requests->huggingface-hub>=0.15.1->sentence-transformers) (1.26.14)\n",
      "Requirement already satisfied: certifi>=2017.4.17 in c:\\users\\test\\appdata\\local\\programs\\python\\python310\\lib\\site-packages (from requests->huggingface-hub>=0.15.1->sentence-transformers) (2022.12.7)\n",
      "Requirement already satisfied: mpmath>=0.19 in c:\\users\\test\\appdata\\local\\programs\\python\\python310\\lib\\site-packages (from sympy->torch>=1.11.0->sentence-transformers) (1.3.0)\n"
     ]
    }
   ],
   "source": [
    "pip install -U sentence-transformers"
   ]
  },
  {
   "cell_type": "code",
   "execution_count": 19,
   "metadata": {},
   "outputs": [
    {
     "name": "stderr",
     "output_type": "stream",
     "text": [
      "c:\\Users\\test\\AppData\\Local\\Programs\\Python\\Python310\\lib\\site-packages\\tqdm\\auto.py:21: TqdmWarning: IProgress not found. Please update jupyter and ipywidgets. See https://ipywidgets.readthedocs.io/en/stable/user_install.html\n",
      "  from .autonotebook import tqdm as notebook_tqdm\n"
     ]
    }
   ],
   "source": [
    "from sentence_transformers import SentenceTransformer\n",
    "model_BERT = SentenceTransformer(\"neuml/pubmedbert-base-embeddings\")"
   ]
  },
  {
   "cell_type": "code",
   "execution_count": 21,
   "metadata": {},
   "outputs": [
    {
     "name": "stderr",
     "output_type": "stream",
     "text": [
      "Batches: 100%|██████████| 3125/3125 [41:54<00:00,  1.24it/s] \n"
     ]
    }
   ],
   "source": [
    "embeddings_train = model_BERT.encode(train_lemmatized_sentences, show_progress_bar=True)"
   ]
  },
  {
   "cell_type": "code",
   "execution_count": 22,
   "metadata": {},
   "outputs": [
    {
     "name": "stderr",
     "output_type": "stream",
     "text": [
      "Batches: 100%|██████████| 625/625 [08:28<00:00,  1.23it/s]\n"
     ]
    }
   ],
   "source": [
    "embeddings_dev = model_BERT.encode(dev_lemmatized_sentences, show_progress_bar=True)"
   ]
  },
  {
   "cell_type": "code",
   "execution_count": 55,
   "metadata": {},
   "outputs": [
    {
     "name": "stdout",
     "output_type": "stream",
     "text": [
      "dev set evaluation of predication using top_model which is trained on lemmatized sentences emmbedings :\n",
      "accuracy :  0.82815\n",
      "balanced accuracy :  0.7536186534149012\n",
      "              precision    recall  f1-score   support\n",
      "\n",
      "  BACKGROUND       0.61      0.57      0.59      1768\n",
      " CONCLUSIONS       0.75      0.77      0.76      3035\n",
      "     METHODS       0.89      0.92      0.91      6609\n",
      "   OBJECTIVE       0.69      0.63      0.66      1660\n",
      "     RESULTS       0.89      0.88      0.88      6928\n",
      "\n",
      "    accuracy                           0.83     20000\n",
      "   macro avg       0.76      0.75      0.76     20000\n",
      "weighted avg       0.83      0.83      0.83     20000\n",
      "\n"
     ]
    }
   ],
   "source": [
    "top_model = LogisticRegression(max_iter=10000)\n",
    "top_model.fit(embeddings_train, y_train)\n",
    "\n",
    "# predicting using top_model trained embeddings_train\n",
    "dev_prediction_BERT = top_model.predict(embeddings_dev)\n",
    "display_score(y_dev, dev_prediction_BERT, label_names, \"dev set evaluation of predication using top_model which is trained on lemmatized sentences emmbedings\")"
   ]
  },
  {
   "cell_type": "markdown",
   "metadata": {},
   "source": [
    "As we expected the second technic gave us way better result since it was train it on embedding made by the PubMedBERT pre-trained model which is a state of the art medical embedding model. But we exracted the embeddiings from from the lemmatized version of the sentences so we probably missed some valuavle inforamation due to the sheer nature  of the lemmatization (lozercasing, plurals supresssion...). \n",
    "\n",
    "So lets extract the embedding from the full sentences and see if we can get better result."
   ]
  },
  {
   "cell_type": "code",
   "execution_count": 24,
   "metadata": {},
   "outputs": [
    {
     "name": "stderr",
     "output_type": "stream",
     "text": [
      "Batches: 100%|██████████| 3125/3125 [42:32<00:00,  1.22it/s] \n"
     ]
    }
   ],
   "source": [
    "fullSentence_embeddings_train = model_BERT.encode(train_sentences, show_progress_bar=True)"
   ]
  },
  {
   "cell_type": "code",
   "execution_count": 25,
   "metadata": {},
   "outputs": [
    {
     "name": "stderr",
     "output_type": "stream",
     "text": [
      "Batches: 100%|██████████| 625/625 [08:37<00:00,  1.21it/s]\n"
     ]
    }
   ],
   "source": [
    "fullSentence_embeddings_dev = model_BERT.encode(dev_sentences, show_progress_bar=True)"
   ]
  },
  {
   "cell_type": "code",
   "execution_count": 54,
   "metadata": {},
   "outputs": [
    {
     "name": "stdout",
     "output_type": "stream",
     "text": [
      "dev set evaluation of predication made using fullSentence_top_model :\n",
      "accuracy :  0.8506\n",
      "balanced accuracy :  0.7812170432394498\n",
      "              precision    recall  f1-score   support\n",
      "\n",
      "  BACKGROUND       0.65      0.62      0.64      1768\n",
      " CONCLUSIONS       0.80      0.80      0.80      3035\n",
      "     METHODS       0.91      0.93      0.92      6609\n",
      "   OBJECTIVE       0.69      0.65      0.67      1660\n",
      "     RESULTS       0.90      0.90      0.90      6928\n",
      "\n",
      "    accuracy                           0.85     20000\n",
      "   macro avg       0.79      0.78      0.79     20000\n",
      "weighted avg       0.85      0.85      0.85     20000\n",
      "\n"
     ]
    }
   ],
   "source": [
    "fullSentence_top_model = LogisticRegression(max_iter=10000)\n",
    "fullSentence_top_model.fit(fullSentence_embeddings_train, y_train)\n",
    "\n",
    "# predicting using top_model trained embeddings_train\n",
    "fullSentence_dev_prediction_BERT = fullSentence_top_model.predict(fullSentence_embeddings_dev)\n",
    "display_score(y_dev, fullSentence_dev_prediction_BERT, label_names, \"dev set evaluation of predication made using fullSentence_top_model\")"
   ]
  },
  {
   "cell_type": "markdown",
   "metadata": {},
   "source": [
    "As expected, fullSentence_top_model is even better since we trained it on emmebding extracted from the full sentences."
   ]
  },
  {
   "cell_type": "markdown",
   "metadata": {},
   "source": [
    "So, our final two model, for each technic are :\n",
    "\n",
    "for the first technic : model\n",
    "\n",
    "and for the second technic : fullSentence_top_model\n",
    "\n",
    "But now let's test the fullSentence_top_model on the test set and see if models did not overfit the training set."
   ]
  },
  {
   "cell_type": "code",
   "execution_count": 40,
   "metadata": {},
   "outputs": [
    {
     "name": "stderr",
     "output_type": "stream",
     "text": [
      "Batches: 100%|██████████| 625/625 [08:15<00:00,  1.26it/s]\n"
     ]
    }
   ],
   "source": [
    "fullSentence_embeddings_test = model_BERT.encode(test_sentences, show_progress_bar=True)"
   ]
  },
  {
   "cell_type": "code",
   "execution_count": 59,
   "metadata": {},
   "outputs": [
    {
     "name": "stdout",
     "output_type": "stream",
     "text": [
      "test set evaluation of the prediction using our selected fullSentence_top_model :\n",
      "accuracy :  0.8551\n",
      "balanced accuracy :  0.7841298588427872\n",
      "              precision    recall  f1-score   support\n",
      "\n",
      "  BACKGROUND       0.67      0.62      0.64      1814\n",
      " CONCLUSIONS       0.80      0.79      0.80      2980\n",
      "     METHODS       0.91      0.94      0.92      6716\n",
      "   OBJECTIVE       0.70      0.67      0.68      1580\n",
      "     RESULTS       0.91      0.91      0.91      6910\n",
      "\n",
      "    accuracy                           0.86     20000\n",
      "   macro avg       0.80      0.78      0.79     20000\n",
      "weighted avg       0.85      0.86      0.85     20000\n",
      "\n"
     ]
    }
   ],
   "source": [
    "fullSentence_test_prediction_BERT = fullSentence_top_model.predict(fullSentence_embeddings_test)\n",
    "display_score(y_test, fullSentence_test_prediction_BERT, label_names, \"test set evaluation of the prediction using our selected fullSentence_top_model\")"
   ]
  },
  {
   "cell_type": "code",
   "execution_count": 42,
   "metadata": {},
   "outputs": [
    {
     "data": {
      "image/png": "[encoded data removed]",
      "text/plain": [
       "<Figure size 640x480 with 2 Axes>"
      ]
     },
     "metadata": {},
     "output_type": "display_data"
    }
   ],
   "source": [
    "import seaborn as sns\n",
    "import matplotlib.pyplot as plt\n",
    "\n",
    "\n",
    "conf_matrix = confusion_matrix(y_test, fullSentence_test_prediction_BERT)\n",
    "sns.heatmap(conf_matrix, annot=True, fmt='g', cmap='Blues', xticklabels=label_names, yticklabels=label_names)\n",
    "plt.xlabel('predicted labels')\n",
    "plt.ylabel('true labels')\n",
    "plt.title('confusion Matrix for test set using our selected fullSentence_top_model to make the prediction:')\n",
    "plt.show()"
   ]
  },
  {
   "cell_type": "markdown",
   "metadata": {},
   "source": [
    "Conclusion : we got an almost identical result on the test set for literally all the metrics and all the classes, so we can say that our model did not overfit and did a pretty good job at generalizing.\n",
    "\n",
    "So finally our best model is fullSentence_top_model by far ."
   ]
  }
 ],
 "metadata": {
  "kernelspec": {
   "display_name": "Python 3",
   "language": "python",
   "name": "python3"
  },
  "language_info": {
   "codemirror_mode": {
    "name": "ipython",
    "version": 3
   },
   "file_extension": ".py",
   "mimetype": "text/x-python",
   "name": "python",
   "nbconvert_exporter": "python",
   "pygments_lexer": "ipython3",
   "version": "3.10.7"
  }
 },
 "nbformat": 4,
 "nbformat_minor": 2
}
